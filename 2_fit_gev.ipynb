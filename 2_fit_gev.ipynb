{
 "cells": [
  {
   "cell_type": "code",
   "execution_count": 1,
   "metadata": {},
   "outputs": [],
   "source": [
    "import os\n",
    "import glob\n",
    "from datetime import datetime\n",
    "from netCDF4 import Dataset\n",
    "import netCDF4 as nc\n",
    "from datetime import datetime\n",
    "import pandas as pd\n",
    "import numpy as np\n",
    "import xarray as xr\n",
    "import sys\n",
    "sys.path.append('C:/Users/Administrator/anaconda3/envs/gdal/Lib/site-packages/')\n",
    "sys.path.append('C:/Users/Administrator/anaconda3/envs/gdal/Lib/site-packages/lmoments3')\n",
    "import distr\n",
    "from scipy import stats\n",
    "import matplotlib.pyplot as plt\n",
    "import multiprocessing as mp\n",
    "from tqdm import tqdm\n",
    "import basefunc"
   ]
  },
  {
   "cell_type": "code",
   "execution_count": 2,
   "metadata": {},
   "outputs": [],
   "source": [
    "'''read_data'''\n",
    "\n",
    "def read_data(scen,time_low,time_up):\n",
    "    '''\n",
    "    scen: scenario ('historical', 'ssp126' or 'ssp245','ssp370,'ssp585')\n",
    "    time_low: start year (1985 for historical, 2030 for mid-21 century, 2070 for late-21 century)\n",
    "    time_up: end year (2014 for historical, 2059 for mid-21 century, 2099 for late-21 century)\n",
    "    '''    \n",
    "    \n",
    "    model = ['ACCESS-CM2','ACCESS-ESM1-5']\n",
    "    #model.remove('GFDL-CM3')\n",
    "    for i in range(len(model)):\n",
    "        path=os.path.join(f'D:/QQ/PhD/cmip6_split/{model[i]}_Rx1d/',scen)\n",
    "        \n",
    "        all_files=os.listdir(path)\n",
    "        all_files.sort()\n",
    "        \n",
    "        # filt files for specific years\n",
    "        files=[]\n",
    "        for f in range(len(all_files)):\n",
    "            if int(all_files[f][-8:-4])>=time_low and int(all_files[f][-8:-4])<=time_up:\n",
    "                files.append(all_files[f])      \n",
    "                \n",
    "        # concatenate files for 30 years        \n",
    "        for j in range(len(files)):\n",
    "            data=basefunc.getRaster(os.path.join(path, files[j]))\n",
    "            data=data.reshape(1,data.shape[0],data.shape[1])\n",
    "            if j==0:\n",
    "                climate_model_data=data\n",
    "            else:\n",
    "                climate_model_data=np.concatenate((climate_model_data,data),axis=0)  \n",
    "                \n",
    "        # concatenate files for 20 models        \n",
    "        climate_model_data=climate_model_data.reshape(1,climate_model_data.shape[0],climate_model_data.shape[1],climate_model_data.shape[2])       \n",
    "        if i==0:              \n",
    "            climate_data=climate_model_data\n",
    "        else:\n",
    "            climate_data=np.concatenate((climate_data,climate_model_data),axis=0)    \n",
    "        del climate_model_data\n",
    "        del data\n",
    "    return climate_data,model\n",
    "\n",
    "\n",
    "def fit_gev_at_point(point_data):\n",
    "\n",
    "    rt= np.array([1.1,2,5,10,20,30,50,100,200])\n",
    "    if point_data.max()>=1e+10:\n",
    "        return np.array([-1]*len(rt))\n",
    "    else:\n",
    "        ranseq=np.arange(10e-9,(3*10e-8+10e-9),10e-9)\n",
    "        gevfit = distr.gev.lmom_fit(point_data+ranseq)\n",
    "        fitted_gev = distr.gev(**gevfit) \n",
    "        D,p=stats.kstest(point_data,fitted_gev.cdf)\n",
    "        if p>0.05:\n",
    "            gevST = fitted_gev.ppf(1.0-1./rt)\n",
    "            return gevST\n",
    "        else:\n",
    "            return np.array([-1]*len(rt))\n",
    "\n",
    "def fit_gev_pre_point(point_data):\n",
    "    \n",
    "    data_fit=np.array(point_data[:30])\n",
    "    data_convert=point_data[-9:]\n",
    "    rt= np.array( [1.1,2,5,10,20,30,50,100,200] )\n",
    "    if point_data.max()>=1e+10:\n",
    "        gevST=np.array([-1]*len(rt))\n",
    "        RT=np.array([-1]*len(rt))\n",
    "        return np.concatenate((gevST,RT))\n",
    "    else:\n",
    "        ranseq=np.arange(10e-9,(3*10e-8+10e-9),10e-9)\n",
    "        gevfit = distr.gev.lmom_fit(data_fit+ranseq)\n",
    "        fitted_gev = distr.gev(**gevfit) \n",
    "        D,p=stats.kstest(point_data,fitted_gev.cdf)\n",
    "\n",
    "        if p>0.05:\n",
    "            gevST = fitted_gev.ppf(1.0-1./rt)\n",
    "            RT =1/( 1-fitted_gev.cdf(data_convert))\n",
    "            RT[np.isinf(RT)]=1\n",
    "            return np.concatenate((gevST,RT))\n",
    "        else:\n",
    "            gevST=np.array([-1]*len(rt))\n",
    "            RT=np.array([-1]*len(rt))\n",
    "            return np.concatenate((gevST,RT))\n",
    "\n",
    "\n"
   ]
  },
  {
   "cell_type": "code",
   "execution_count": 3,
   "metadata": {},
   "outputs": [
    {
     "name": "stderr",
     "output_type": "stream",
     "text": [
      "c:\\Users\\Administrator\\anaconda3\\envs\\gdal\\lib\\site-packages\\osgeo\\gdal.py:287: FutureWarning: Neither gdal.UseExceptions() nor gdal.DontUseExceptions() has been explicitly called. In GDAL 4.0, exceptions will be enabled by default.\n",
      "  warnings.warn(\n"
     ]
    },
    {
     "name": "stdout",
     "output_type": "stream",
     "text": [
      "(30, 600, 1440)\n"
     ]
    },
    {
     "name": "stderr",
     "output_type": "stream",
     "text": [
      " 10%|▉         | 58/600 [00:07<01:08,  7.86it/s] \n"
     ]
    },
    {
     "ename": "KeyboardInterrupt",
     "evalue": "",
     "output_type": "error",
     "traceback": [
      "\u001b[1;31m---------------------------------------------------------------------------\u001b[0m",
      "\u001b[1;31mKeyboardInterrupt\u001b[0m                         Traceback (most recent call last)",
      "Cell \u001b[1;32mIn[3], line 11\u001b[0m\n\u001b[0;32m      9\u001b[0m     \u001b[38;5;28;01mfor\u001b[39;00m j \u001b[38;5;129;01min\u001b[39;00m \u001b[38;5;28mrange\u001b[39m(mme_median\u001b[38;5;241m.\u001b[39mshape[\u001b[38;5;241m2\u001b[39m]):\n\u001b[0;32m     10\u001b[0m         point_data \u001b[38;5;241m=\u001b[39m mme_median[:, i, j]\n\u001b[1;32m---> 11\u001b[0m         rs[:,i,j] \u001b[38;5;241m=\u001b[39m \u001b[43mfit_gev_at_point\u001b[49m\u001b[43m(\u001b[49m\u001b[43mpoint_data\u001b[49m\u001b[43m)\u001b[49m\n\u001b[0;32m     13\u001b[0m ref_tif \u001b[38;5;241m=\u001b[39m \u001b[38;5;124m'\u001b[39m\u001b[38;5;124m./data/ref.tif\u001b[39m\u001b[38;5;124m'\u001b[39m\n\u001b[0;32m     14\u001b[0m output_path \u001b[38;5;241m=\u001b[39m \u001b[38;5;124mf\u001b[39m\u001b[38;5;124m'\u001b[39m\u001b[38;5;124m./results_for_gev/\u001b[39m\u001b[38;5;132;01m{\u001b[39;00mscen\u001b[38;5;132;01m}\u001b[39;00m\u001b[38;5;124m_mme.tif\u001b[39m\u001b[38;5;124m'\u001b[39m\n",
      "Cell \u001b[1;32mIn[2], line 53\u001b[0m, in \u001b[0;36mfit_gev_at_point\u001b[1;34m(point_data)\u001b[0m\n\u001b[0;32m     51\u001b[0m gevfit \u001b[38;5;241m=\u001b[39m distr\u001b[38;5;241m.\u001b[39mgev\u001b[38;5;241m.\u001b[39mlmom_fit(point_data\u001b[38;5;241m+\u001b[39mranseq)\n\u001b[0;32m     52\u001b[0m fitted_gev \u001b[38;5;241m=\u001b[39m distr\u001b[38;5;241m.\u001b[39mgev(\u001b[38;5;241m*\u001b[39m\u001b[38;5;241m*\u001b[39mgevfit) \n\u001b[1;32m---> 53\u001b[0m D,p\u001b[38;5;241m=\u001b[39m\u001b[43mstats\u001b[49m\u001b[38;5;241;43m.\u001b[39;49m\u001b[43mkstest\u001b[49m\u001b[43m(\u001b[49m\u001b[43mpoint_data\u001b[49m\u001b[43m,\u001b[49m\u001b[43mfitted_gev\u001b[49m\u001b[38;5;241;43m.\u001b[39;49m\u001b[43mcdf\u001b[49m\u001b[43m)\u001b[49m\n\u001b[0;32m     54\u001b[0m \u001b[38;5;28;01mif\u001b[39;00m p\u001b[38;5;241m>\u001b[39m\u001b[38;5;241m0.05\u001b[39m:\n\u001b[0;32m     55\u001b[0m     gevST \u001b[38;5;241m=\u001b[39m fitted_gev\u001b[38;5;241m.\u001b[39mppf(\u001b[38;5;241m1.0\u001b[39m\u001b[38;5;241m-\u001b[39m\u001b[38;5;241m1.\u001b[39m\u001b[38;5;241m/\u001b[39mrt)\n",
      "File \u001b[1;32mc:\\Users\\Administrator\\anaconda3\\envs\\gdal\\lib\\site-packages\\scipy\\_lib\\_util.py:713\u001b[0m, in \u001b[0;36m_rename_parameter.<locals>.decorator.<locals>.wrapper\u001b[1;34m(*args, **kwargs)\u001b[0m\n\u001b[0;32m    711\u001b[0m         \u001b[38;5;28;01mraise\u001b[39;00m \u001b[38;5;167;01mTypeError\u001b[39;00m(message)\n\u001b[0;32m    712\u001b[0m     kwargs[new_name] \u001b[38;5;241m=\u001b[39m kwargs\u001b[38;5;241m.\u001b[39mpop(old_name)\n\u001b[1;32m--> 713\u001b[0m \u001b[38;5;28;01mreturn\u001b[39;00m fun(\u001b[38;5;241m*\u001b[39margs, \u001b[38;5;241m*\u001b[39m\u001b[38;5;241m*\u001b[39mkwargs)\n",
      "File \u001b[1;32mc:\\Users\\Administrator\\anaconda3\\envs\\gdal\\lib\\site-packages\\scipy\\stats\\_stats_py.py:9079\u001b[0m, in \u001b[0;36mkstest\u001b[1;34m(rvs, cdf, args, N, alternative, method)\u001b[0m\n\u001b[0;32m   9077\u001b[0m xvals, yvals, cdf \u001b[38;5;241m=\u001b[39m _parse_kstest_args(rvs, cdf, args, N)\n\u001b[0;32m   9078\u001b[0m \u001b[38;5;28;01mif\u001b[39;00m cdf:\n\u001b[1;32m-> 9079\u001b[0m     \u001b[38;5;28;01mreturn\u001b[39;00m \u001b[43mks_1samp\u001b[49m\u001b[43m(\u001b[49m\u001b[43mxvals\u001b[49m\u001b[43m,\u001b[49m\u001b[43m \u001b[49m\u001b[43mcdf\u001b[49m\u001b[43m,\u001b[49m\u001b[43m \u001b[49m\u001b[43margs\u001b[49m\u001b[38;5;241;43m=\u001b[39;49m\u001b[43margs\u001b[49m\u001b[43m,\u001b[49m\u001b[43m \u001b[49m\u001b[43malternative\u001b[49m\u001b[38;5;241;43m=\u001b[39;49m\u001b[43malternative\u001b[49m\u001b[43m,\u001b[49m\n\u001b[0;32m   9080\u001b[0m \u001b[43m                    \u001b[49m\u001b[43mmethod\u001b[49m\u001b[38;5;241;43m=\u001b[39;49m\u001b[43mmethod\u001b[49m\u001b[43m)\u001b[49m\n\u001b[0;32m   9081\u001b[0m \u001b[38;5;28;01mreturn\u001b[39;00m ks_2samp(xvals, yvals, alternative\u001b[38;5;241m=\u001b[39malternative, method\u001b[38;5;241m=\u001b[39mmethod)\n",
      "File \u001b[1;32mc:\\Users\\Administrator\\anaconda3\\envs\\gdal\\lib\\site-packages\\scipy\\_lib\\_util.py:713\u001b[0m, in \u001b[0;36m_rename_parameter.<locals>.decorator.<locals>.wrapper\u001b[1;34m(*args, **kwargs)\u001b[0m\n\u001b[0;32m    711\u001b[0m         \u001b[38;5;28;01mraise\u001b[39;00m \u001b[38;5;167;01mTypeError\u001b[39;00m(message)\n\u001b[0;32m    712\u001b[0m     kwargs[new_name] \u001b[38;5;241m=\u001b[39m kwargs\u001b[38;5;241m.\u001b[39mpop(old_name)\n\u001b[1;32m--> 713\u001b[0m \u001b[38;5;28;01mreturn\u001b[39;00m fun(\u001b[38;5;241m*\u001b[39margs, \u001b[38;5;241m*\u001b[39m\u001b[38;5;241m*\u001b[39mkwargs)\n",
      "File \u001b[1;32mc:\\Users\\Administrator\\anaconda3\\envs\\gdal\\lib\\site-packages\\scipy\\stats\\_stats_py.py:8440\u001b[0m, in \u001b[0;36mks_1samp\u001b[1;34m(x, cdf, args, alternative, method)\u001b[0m\n\u001b[0;32m   8438\u001b[0m N \u001b[38;5;241m=\u001b[39m \u001b[38;5;28mlen\u001b[39m(x)\n\u001b[0;32m   8439\u001b[0m x \u001b[38;5;241m=\u001b[39m np\u001b[38;5;241m.\u001b[39msort(x)\n\u001b[1;32m-> 8440\u001b[0m cdfvals \u001b[38;5;241m=\u001b[39m \u001b[43mcdf\u001b[49m\u001b[43m(\u001b[49m\u001b[43mx\u001b[49m\u001b[43m,\u001b[49m\u001b[43m \u001b[49m\u001b[38;5;241;43m*\u001b[39;49m\u001b[43margs\u001b[49m\u001b[43m)\u001b[49m\n\u001b[0;32m   8442\u001b[0m \u001b[38;5;28;01mif\u001b[39;00m alternative \u001b[38;5;241m==\u001b[39m \u001b[38;5;124m'\u001b[39m\u001b[38;5;124mgreater\u001b[39m\u001b[38;5;124m'\u001b[39m:\n\u001b[0;32m   8443\u001b[0m     Dplus, d_location \u001b[38;5;241m=\u001b[39m _compute_dplus(cdfvals, x)\n",
      "File \u001b[1;32mc:\\Users\\Administrator\\anaconda3\\envs\\gdal\\lib\\site-packages\\scipy\\stats\\_distn_infrastructure.py:477\u001b[0m, in \u001b[0;36mrv_frozen.cdf\u001b[1;34m(self, x)\u001b[0m\n\u001b[0;32m    476\u001b[0m \u001b[38;5;28;01mdef\u001b[39;00m \u001b[38;5;21mcdf\u001b[39m(\u001b[38;5;28mself\u001b[39m, x):\n\u001b[1;32m--> 477\u001b[0m     \u001b[38;5;28;01mreturn\u001b[39;00m \u001b[38;5;28mself\u001b[39m\u001b[38;5;241m.\u001b[39mdist\u001b[38;5;241m.\u001b[39mcdf(x, \u001b[38;5;241m*\u001b[39m\u001b[38;5;28mself\u001b[39m\u001b[38;5;241m.\u001b[39margs, \u001b[38;5;241m*\u001b[39m\u001b[38;5;241m*\u001b[39m\u001b[38;5;28mself\u001b[39m\u001b[38;5;241m.\u001b[39mkwds)\n",
      "File \u001b[1;32mc:\\Users\\Administrator\\anaconda3\\envs\\gdal\\lib\\site-packages\\scipy\\stats\\_distn_infrastructure.py:2072\u001b[0m, in \u001b[0;36mrv_continuous.cdf\u001b[1;34m(self, x, *args, **kwds)\u001b[0m\n\u001b[0;32m   2070\u001b[0m cond \u001b[38;5;241m=\u001b[39m cond0 \u001b[38;5;241m&\u001b[39m cond1\n\u001b[0;32m   2071\u001b[0m output \u001b[38;5;241m=\u001b[39m zeros(shape(cond), dtyp)\n\u001b[1;32m-> 2072\u001b[0m \u001b[43mplace\u001b[49m\u001b[43m(\u001b[49m\u001b[43moutput\u001b[49m\u001b[43m,\u001b[49m\u001b[43m \u001b[49m\u001b[43m(\u001b[49m\u001b[38;5;241;43m1\u001b[39;49m\u001b[38;5;241;43m-\u001b[39;49m\u001b[43mcond0\u001b[49m\u001b[43m)\u001b[49m\u001b[38;5;241;43m+\u001b[39;49m\u001b[43mnp\u001b[49m\u001b[38;5;241;43m.\u001b[39;49m\u001b[43misnan\u001b[49m\u001b[43m(\u001b[49m\u001b[43mx\u001b[49m\u001b[43m)\u001b[49m\u001b[43m,\u001b[49m\u001b[43m \u001b[49m\u001b[38;5;28;43mself\u001b[39;49m\u001b[38;5;241;43m.\u001b[39;49m\u001b[43mbadvalue\u001b[49m\u001b[43m)\u001b[49m\n\u001b[0;32m   2073\u001b[0m place(output, cond2, \u001b[38;5;241m1.0\u001b[39m)\n\u001b[0;32m   2074\u001b[0m \u001b[38;5;28;01mif\u001b[39;00m np\u001b[38;5;241m.\u001b[39many(cond):  \u001b[38;5;66;03m# call only if at least 1 entry\u001b[39;00m\n",
      "File \u001b[1;32m<__array_function__ internals>:200\u001b[0m, in \u001b[0;36mplace\u001b[1;34m(*args, **kwargs)\u001b[0m\n",
      "File \u001b[1;32mc:\\Users\\Administrator\\anaconda3\\envs\\gdal\\lib\\site-packages\\numpy\\lib\\function_base.py:1954\u001b[0m, in \u001b[0;36mplace\u001b[1;34m(arr, mask, vals)\u001b[0m\n\u001b[0;32m   1950\u001b[0m \u001b[38;5;28;01mif\u001b[39;00m \u001b[38;5;129;01mnot\u001b[39;00m \u001b[38;5;28misinstance\u001b[39m(arr, np\u001b[38;5;241m.\u001b[39mndarray):\n\u001b[0;32m   1951\u001b[0m     \u001b[38;5;28;01mraise\u001b[39;00m \u001b[38;5;167;01mTypeError\u001b[39;00m(\u001b[38;5;124m\"\u001b[39m\u001b[38;5;124margument 1 must be numpy.ndarray, \u001b[39m\u001b[38;5;124m\"\u001b[39m\n\u001b[0;32m   1952\u001b[0m                     \u001b[38;5;124m\"\u001b[39m\u001b[38;5;124mnot \u001b[39m\u001b[38;5;132;01m{name}\u001b[39;00m\u001b[38;5;124m\"\u001b[39m\u001b[38;5;241m.\u001b[39mformat(name\u001b[38;5;241m=\u001b[39m\u001b[38;5;28mtype\u001b[39m(arr)\u001b[38;5;241m.\u001b[39m\u001b[38;5;18m__name__\u001b[39m))\n\u001b[1;32m-> 1954\u001b[0m \u001b[38;5;28;01mreturn\u001b[39;00m \u001b[43m_insert\u001b[49m\u001b[43m(\u001b[49m\u001b[43marr\u001b[49m\u001b[43m,\u001b[49m\u001b[43m \u001b[49m\u001b[43mmask\u001b[49m\u001b[43m,\u001b[49m\u001b[43m \u001b[49m\u001b[43mvals\u001b[49m\u001b[43m)\u001b[49m\n",
      "\u001b[1;31mKeyboardInterrupt\u001b[0m: "
     ]
    }
   ],
   "source": [
    "\n",
    "scen = 'historical'\n",
    "\n",
    "climate_data,model=read_data(scen,1985, 2015)\n",
    "climate_data=np.sort(climate_data,axis=1)\n",
    "mme_median=np.median(climate_data,axis=0)\n",
    "print(mme_median.shape)\n",
    "rs = np.empty((9,mme_median.shape[1], mme_median.shape[2]))\n",
    "for i in tqdm(range(mme_median.shape[1])):\n",
    "    for j in range(mme_median.shape[2]):\n",
    "        point_data = mme_median[:, i, j]\n",
    "        rs[:,i,j] = fit_gev_at_point(point_data)\n",
    "\n",
    "ref_tif = './data/ref.tif'\n",
    "output_path = f'./results_for_gev/{scen}_mme.tif'\n",
    "basefunc.array2Raster(rs,ref_tif,output_path)"
   ]
  },
  {
   "cell_type": "code",
   "execution_count": null,
   "metadata": {},
   "outputs": [
    {
     "name": "stdout",
     "output_type": "stream",
     "text": [
      "ssp126 2030 2060\n"
     ]
    },
    {
     "name": "stderr",
     "output_type": "stream",
     "text": [
      "  3%|▎         | 16/600 [00:00<00:03, 153.17it/s]C:\\Users\\Administrator\\AppData\\Local\\Temp\\ipykernel_9888\\2337039357.py:80: RuntimeWarning: divide by zero encountered in divide\n",
      "  RT =1/( 1-fitted_gev.cdf(data_convert))\n",
      "100%|██████████| 600/600 [03:43<00:00,  2.69it/s]\n"
     ]
    },
    {
     "name": "stdout",
     "output_type": "stream",
     "text": [
      "ssp126 2070 2100\n"
     ]
    },
    {
     "name": "stderr",
     "output_type": "stream",
     "text": [
      "100%|██████████| 600/600 [05:35<00:00,  1.79it/s]\n"
     ]
    },
    {
     "name": "stdout",
     "output_type": "stream",
     "text": [
      "ssp245 2030 2060\n"
     ]
    },
    {
     "name": "stderr",
     "output_type": "stream",
     "text": [
      "100%|██████████| 600/600 [03:37<00:00,  2.76it/s]\n"
     ]
    },
    {
     "name": "stdout",
     "output_type": "stream",
     "text": [
      "ssp245 2070 2100\n"
     ]
    },
    {
     "name": "stderr",
     "output_type": "stream",
     "text": [
      "100%|██████████| 600/600 [03:34<00:00,  2.80it/s]\n"
     ]
    },
    {
     "name": "stdout",
     "output_type": "stream",
     "text": [
      "ssp370 2030 2060\n"
     ]
    },
    {
     "name": "stderr",
     "output_type": "stream",
     "text": [
      "100%|██████████| 600/600 [08:10<00:00,  1.22it/s]\n"
     ]
    },
    {
     "name": "stdout",
     "output_type": "stream",
     "text": [
      "ssp370 2070 2100\n"
     ]
    },
    {
     "name": "stderr",
     "output_type": "stream",
     "text": [
      "100%|██████████| 600/600 [05:51<00:00,  1.70it/s]\n"
     ]
    },
    {
     "name": "stdout",
     "output_type": "stream",
     "text": [
      "ssp585 2030 2060\n"
     ]
    },
    {
     "name": "stderr",
     "output_type": "stream",
     "text": [
      "100%|██████████| 600/600 [03:37<00:00,  2.76it/s]\n"
     ]
    },
    {
     "name": "stdout",
     "output_type": "stream",
     "text": [
      "ssp585 2070 2100\n"
     ]
    },
    {
     "name": "stderr",
     "output_type": "stream",
     "text": [
      "100%|██████████| 600/600 [03:21<00:00,  2.98it/s]\n"
     ]
    }
   ],
   "source": [
    "SCENARIO_YEARS = {\n",
    "    'ssp126': [(2030, 2060), (2070, 2100)],\n",
    "    'ssp245': [(2030, 2060), (2070, 2100)],\n",
    "    'ssp370': [(2030, 2060), (2070, 2100)],\n",
    "    'ssp585': [(2030, 2060), (2070, 2100)],\n",
    "}\n",
    "ref_tif = './data/ref.tif'\n",
    "historical_mme=basefunc.getRaster(r'./results_for_gev/historical_mme.tif')\n",
    "smooth=False\n",
    "for scenario, ranges in SCENARIO_YEARS.items():\n",
    "    for time_low,time_up in ranges:\n",
    "        print(scenario,time_low,time_up)\n",
    "        climate_data,model=read_data(scenario,time_low,time_up)\n",
    "        climate_data=np.sort(climate_data,axis=1)\n",
    "        mme_median=np.median(climate_data,axis=0)\n",
    "        # with smooth\n",
    "        if smooth==True:\n",
    "            mme_median=smooth_input_data(mme_median)\n",
    "        del climate_data\n",
    "\n",
    "        inputs=np.concatenate((mme_median,historical_mme),axis=0)\n",
    "        rs = np.empty((18,inputs.shape[1], inputs.shape[2]))\n",
    "\n",
    "        for i in tqdm(range(inputs.shape[1])):\n",
    "            for j in range(inputs.shape[2]):\n",
    "                point_data = inputs[:, i, j]\n",
    "                rs[:,i,j] = fit_gev_pre_point(point_data)\n",
    "\n",
    "        future_pre=rs[:9,:,:]\n",
    "        future_rt=rs[-9:,:,:]\n",
    "        \n",
    "        outname=scenario+'pre'+str(time_low)+str(time_up)+'_mme.tif'\n",
    "        output_path='./results_for_gev/'+outname\n",
    "        basefunc.array2Raster(future_pre,ref_tif,output_path)\n",
    "\n",
    "        outname='newRT_under_'+scenario+'_'+str(time_low)+str(time_up)+'_mme.tif'\n",
    "        output_path='./results_for_gev/'+outname\n",
    "        basefunc.array2Raster(future_rt,ref_tif,output_path)\n"
   ]
  },
  {
   "cell_type": "code",
   "execution_count": null,
   "metadata": {},
   "outputs": [],
   "source": []
  }
 ],
 "metadata": {
  "kernelspec": {
   "display_name": "gdal",
   "language": "python",
   "name": "python3"
  },
  "language_info": {
   "codemirror_mode": {
    "name": "ipython",
    "version": 3
   },
   "file_extension": ".py",
   "mimetype": "text/x-python",
   "name": "python",
   "nbconvert_exporter": "python",
   "pygments_lexer": "ipython3",
   "version": "3.9.17"
  },
  "orig_nbformat": 4
 },
 "nbformat": 4,
 "nbformat_minor": 2
}
