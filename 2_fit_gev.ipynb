{
 "cells": [
  {
   "cell_type": "code",
   "execution_count": 1,
   "metadata": {},
   "outputs": [],
   "source": [
    "import os\n",
    "import glob\n",
    "from datetime import datetime\n",
    "from netCDF4 import Dataset\n",
    "import netCDF4 as nc\n",
    "from datetime import datetime\n",
    "import pandas as pd\n",
    "import numpy as np\n",
    "import xarray as xr\n",
    "import sys\n",
    "sys.path.append('C:/Users/Administrator/anaconda3/envs/gdal/Lib/site-packages/')\n",
    "sys.path.append('C:/Users/Administrator/anaconda3/envs/gdal/Lib/site-packages/lmoments3')\n",
    "import distr\n",
    "from scipy import stats\n",
    "import matplotlib.pyplot as plt\n",
    "import multiprocessing as mp\n",
    "from tqdm import tqdm\n",
    "import basefunc"
   ]
  },
  {
   "cell_type": "code",
   "execution_count": 2,
   "metadata": {},
   "outputs": [],
   "source": [
    "'''read_data'''\n",
    "\n",
    "def read_data(scen,time_low,time_up):\n",
    "    '''\n",
    "    scen: scenario ('historical', 'ssp126' or 'ssp245','ssp370,'ssp585')\n",
    "    time_low: start year (1985 for historical, 2030 for mid-21 century, 2070 for late-21 century)\n",
    "    time_up: end year (2014 for historical, 2059 for mid-21 century, 2099 for late-21 century)\n",
    "    '''    \n",
    "    \n",
    "    \n",
    "    model = ['ACCESS-CM2','ACCESS-ESM1-5']\n",
    "    #model.remove('GFDL-CM3')\n",
    "    for i in range(len(model)):\n",
    "        path=os.path.join(f'D:/QQ/PhD/cmip6_split/{model[i]}_Rx1d/',scen)\n",
    "        \n",
    "        all_files=os.listdir(path)\n",
    "        all_files.sort()\n",
    "        \n",
    "        # filt files for specific years\n",
    "        files=[]\n",
    "        for f in range(len(all_files)):\n",
    "            if int(all_files[f][-8:-4])>=time_low and int(all_files[f][-8:-4])<=time_up:\n",
    "                files.append(all_files[f])      \n",
    "                \n",
    "        # concatenate files for 30 years        \n",
    "        for j in range(len(files)):\n",
    "            data=basefunc.getRaster(os.path.join(path, files[j]))\n",
    "            data=data.reshape(1,data.shape[0],data.shape[1])\n",
    "            if j==0:\n",
    "                climate_model_data=data\n",
    "            else:\n",
    "                climate_model_data=np.concatenate((climate_model_data,data),axis=0)  \n",
    "                \n",
    "        # concatenate files for 20 models        \n",
    "        climate_model_data=climate_model_data.reshape(1,climate_model_data.shape[0],climate_model_data.shape[1],climate_model_data.shape[2])       \n",
    "        if i==0:              \n",
    "            climate_data=climate_model_data\n",
    "        else:\n",
    "            climate_data=np.concatenate((climate_data,climate_model_data),axis=0)    \n",
    "        del climate_model_data\n",
    "        del data\n",
    "    return climate_data,model\n",
    "\n",
    "\n",
    "def fit_gev_at_point(point_data):\n",
    "\n",
    "    rt= np.array([1.1,2,5,10,20,30,50,100,200])\n",
    "    if point_data.max()>=1e+10:\n",
    "        return np.array([-1]*len(rt))\n",
    "    else:\n",
    "        ranseq=np.arange(10e-9,(3*10e-8+10e-9),10e-9)\n",
    "        gevfit = distr.gev.lmom_fit(point_data+ranseq)\n",
    "        fitted_gev = distr.gev(**gevfit) \n",
    "        D,p=stats.kstest(point_data,fitted_gev.cdf)\n",
    "        if p>0.05:\n",
    "            gevST = fitted_gev.ppf(1.0-1./rt)\n",
    "            return gevST\n",
    "        else:\n",
    "            return np.array([-1]*len(rt))\n",
    "\n",
    "\n",
    "\n",
    "def fit_gev_pre_point(point_data):\n",
    "    \n",
    "    data_fit=np.array(point_data[:30])\n",
    "    data_convert=point_data[-9:]\n",
    "    rt= np.array( [1.1,2,5,10,20,30,50,100,200] )\n",
    "    if point_data.max()>=1e+10:\n",
    "        gevST=np.array([-1]*len(rt))\n",
    "        RT=np.array([-1]*len(rt))\n",
    "        return np.concatenate((gevST,RT))\n",
    "    else:\n",
    "        ranseq=np.arange(10e-9,(3*10e-8+10e-9),10e-9)\n",
    "        gevfit = distr.gev.lmom_fit(data_fit+ranseq)\n",
    "        fitted_gev = distr.gev(**gevfit) \n",
    "        D,p=stats.kstest(point_data,fitted_gev.cdf)\n",
    "\n",
    "        if p>0.05:\n",
    "            gevST = fitted_gev.ppf(1.0-1./rt)\n",
    "            RT =1/( 1-fitted_gev.cdf(data_convert))\n",
    "            RT[np.isinf(RT)]=1\n",
    "            return np.concatenate((gevST,RT))\n",
    "        else:\n",
    "            gevST=np.array([-1]*len(rt))\n",
    "            RT=np.array([-1]*len(rt))\n",
    "            return np.concatenate((gevST,RT))\n"
   ]
  },
  {
   "cell_type": "code",
   "execution_count": 4,
   "metadata": {},
   "outputs": [
    {
     "name": "stdout",
     "output_type": "stream",
     "text": [
      "(30, 600, 1440)\n"
     ]
    },
    {
     "name": "stderr",
     "output_type": "stream",
     "text": [
      "100%|██████████| 600/600 [02:38<00:00,  3.79it/s]\n"
     ]
    }
   ],
   "source": [
    "scen = 'historical'\n",
    "\n",
    "climate_data,model=read_data(scen,1985, 2015)\n",
    "climate_data=np.sort(climate_data,axis=1)\n",
    "mme_median=np.median(climate_data,axis=0)\n",
    "print(mme_median.shape)\n",
    "rs = np.empty((9,mme_median.shape[1], mme_median.shape[2]))\n",
    "for i in tqdm(range(mme_median.shape[1])):\n",
    "    for j in range(mme_median.shape[2]):\n",
    "        point_data = mme_median[:, i, j]\n",
    "        rs[:,i,j] = fit_gev_at_point(point_data)\n",
    "ref_tif = './data/ref.tif'\n",
    "output_path = f'./results_for_gev/{scen}_mme.tif'\n",
    "basefunc.array2Raster(rs,ref_tif,output_path)"
   ]
  },
  {
   "cell_type": "code",
   "execution_count": 5,
   "metadata": {},
   "outputs": [
    {
     "name": "stdout",
     "output_type": "stream",
     "text": [
      "ssp126 2030 2060\n"
     ]
    },
    {
     "name": "stderr",
     "output_type": "stream",
     "text": [
      "  3%|▎         | 16/600 [00:00<00:03, 153.17it/s]C:\\Users\\Administrator\\AppData\\Local\\Temp\\ipykernel_9888\\2337039357.py:80: RuntimeWarning: divide by zero encountered in divide\n",
      "  RT =1/( 1-fitted_gev.cdf(data_convert))\n",
      "100%|██████████| 600/600 [03:43<00:00,  2.69it/s]\n"
     ]
    },
    {
     "name": "stdout",
     "output_type": "stream",
     "text": [
      "ssp126 2070 2100\n"
     ]
    },
    {
     "name": "stderr",
     "output_type": "stream",
     "text": [
      "100%|██████████| 600/600 [05:35<00:00,  1.79it/s]\n"
     ]
    },
    {
     "name": "stdout",
     "output_type": "stream",
     "text": [
      "ssp245 2030 2060\n"
     ]
    },
    {
     "name": "stderr",
     "output_type": "stream",
     "text": [
      "100%|██████████| 600/600 [03:37<00:00,  2.76it/s]\n"
     ]
    },
    {
     "name": "stdout",
     "output_type": "stream",
     "text": [
      "ssp245 2070 2100\n"
     ]
    },
    {
     "name": "stderr",
     "output_type": "stream",
     "text": [
      "100%|██████████| 600/600 [03:34<00:00,  2.80it/s]\n"
     ]
    },
    {
     "name": "stdout",
     "output_type": "stream",
     "text": [
      "ssp370 2030 2060\n"
     ]
    },
    {
     "name": "stderr",
     "output_type": "stream",
     "text": [
      "100%|██████████| 600/600 [08:10<00:00,  1.22it/s]\n"
     ]
    },
    {
     "name": "stdout",
     "output_type": "stream",
     "text": [
      "ssp370 2070 2100\n"
     ]
    },
    {
     "name": "stderr",
     "output_type": "stream",
     "text": [
      "100%|██████████| 600/600 [05:51<00:00,  1.70it/s]\n"
     ]
    },
    {
     "name": "stdout",
     "output_type": "stream",
     "text": [
      "ssp585 2030 2060\n"
     ]
    },
    {
     "name": "stderr",
     "output_type": "stream",
     "text": [
      "100%|██████████| 600/600 [03:37<00:00,  2.76it/s]\n"
     ]
    },
    {
     "name": "stdout",
     "output_type": "stream",
     "text": [
      "ssp585 2070 2100\n"
     ]
    },
    {
     "name": "stderr",
     "output_type": "stream",
     "text": [
      "100%|██████████| 600/600 [03:21<00:00,  2.98it/s]\n"
     ]
    }
   ],
   "source": [
    "SCENARIO_YEARS = {\n",
    "    'ssp126': [(2030, 2060), (2070, 2100)],\n",
    "    'ssp245': [(2030, 2060), (2070, 2100)],\n",
    "    'ssp370': [(2030, 2060), (2070, 2100)],\n",
    "    'ssp585': [(2030, 2060), (2070, 2100)],\n",
    "}\n",
    "ref_tif = './data/ref.tif'\n",
    "historical_mme=basefunc.getRaster(r'./results_for_gev/historical_mme.tif')\n",
    "\n",
    "for scenario, ranges in SCENARIO_YEARS.items():\n",
    "    for time_low,time_up in ranges:\n",
    "        print(scenario,time_low,time_up)\n",
    "        climate_data,model=read_data(scenario,time_low,time_up)\n",
    "        climate_data=np.sort(climate_data,axis=1)\n",
    "        mme_median=np.median(climate_data,axis=0)\n",
    "        del climate_data\n",
    "\n",
    "        inputs=np.concatenate((mme_median,historical_mme),axis=0)\n",
    "        rs = np.empty((18,inputs.shape[1], inputs.shape[2]))\n",
    "\n",
    "        for i in tqdm(range(inputs.shape[1])):\n",
    "            for j in range(inputs.shape[2]):\n",
    "                point_data = inputs[:, i, j]\n",
    "                rs[:,i,j] = fit_gev_pre_point(point_data)\n",
    "\n",
    "        future_pre=rs[:9,:,:]\n",
    "        future_rt=rs[-9:,:,:]\n",
    "        \n",
    "        outname=scenario+'pre'+str(time_low)+str(time_up)+'_mme.tif'\n",
    "        output_path='./results_for_gev/'+outname\n",
    "        basefunc.array2Raster(future_pre,ref_tif,output_path)\n",
    "\n",
    "        outname='newRT_under_'+scenario+'_'+str(time_low)+str(time_up)+'_mme.tif'\n",
    "        output_path='./results_for_gev/'+outname\n",
    "        basefunc.array2Raster(future_rt,ref_tif,output_path)\n"
   ]
  },
  {
   "cell_type": "code",
   "execution_count": null,
   "metadata": {},
   "outputs": [],
   "source": []
  }
 ],
 "metadata": {
  "kernelspec": {
   "display_name": "gdal",
   "language": "python",
   "name": "python3"
  },
  "language_info": {
   "codemirror_mode": {
    "name": "ipython",
    "version": 3
   },
   "file_extension": ".py",
   "mimetype": "text/x-python",
   "name": "python",
   "nbconvert_exporter": "python",
   "pygments_lexer": "ipython3",
   "version": "3.9.17"
  },
  "orig_nbformat": 4
 },
 "nbformat": 4,
 "nbformat_minor": 2
}
